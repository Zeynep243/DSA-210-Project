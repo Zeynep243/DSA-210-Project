{
  "nbformat": 4,
  "nbformat_minor": 0,
  "metadata": {
    "colab": {
      "provenance": []
    },
    "kernelspec": {
      "name": "python3",
      "display_name": "Python 3"
    },
    "language_info": {
      "name": "python"
    }
  },
  "cells": [
    {
      "cell_type": "code",
      "execution_count": null,
      "metadata": {
        "id": "3QSTubKQS83U"
      },
      "outputs": [],
      "source": [
        "import pandas as pd\n",
        "import numpy as np\n",
        "import scipy.stats as stats\n",
        "import statsmodels.api as sm\n",
        "\n",
        "data = pd.read_csv('PISA_Socio_Econ_combined_ver02.csv')\n",
        "\n",
        "median_gdp = data['GDP per Capita PPP Interpolated'].median()\n",
        "\n",
        "high_gdp = data[data['GDP per Capita PPP Interpolated'] > median_gdp].copy()\n",
        "low_gdp = data[data['GDP per Capita PPP Interpolated'] <= median_gdp].copy()\n",
        "\n",
        "high_gdp['gender_gap'] = high_gdp['Reading_Girls'] - high_gdp['Reading_Boys']\n",
        "low_gdp['gender_gap'] = low_gdp['Reading_Girls'] - low_gdp['Reading_Boys']\n",
        "\n",
        "t_stat, p_value_two_tailed = stats.ttest_ind(\n",
        "    high_gdp['gender_gap'].dropna(),\n",
        "    low_gdp['gender_gap'].dropna(),\n",
        "    equal_var=False\n",
        ")\n",
        "\n",
        "print(\"Gender Gap t-statistic:\", t_stat)\n",
        "print(\"Two-tailed p-value from t-test:\", p_value_two_tailed)\n",
        "\n",
        "n1 = len(high_gdp['gender_gap'].dropna())\n",
        "n2 = len(low_gdp['gender_gap'].dropna())\n",
        "\n",
        "s1 = np.var(high_gdp['gender_gap'].dropna(), ddof=1)\n",
        "s2 = np.var(low_gdp['gender_gap'].dropna(), ddof=1)\n",
        "\n",
        "df = (s1/n1 + s2/n2)**2 / ((s1/n1)**2/(n1 - 1) + (s2/n2)**2/(n2 - 1))\n",
        "print(\"Degrees of Freedom:\", df)\n",
        "\n",
        "alpha = 0.05\n",
        "\n",
        "t_crit_low = stats.t.ppf(alpha / 2, df)\n",
        "t_crit_high = stats.t.ppf(1 - alpha / 2, df)\n",
        "print(\"Critical t-values at alpha = 0.05:\", t_crit_low, t_crit_high)\n",
        "\n",
        "p_value_manual = 2 * stats.t.sf(np.abs(t_stat), df)\n",
        "print(\"Two-tailed p-value:\", p_value_manual)\n",
        "\n",
        "if p_value_manual < alpha:\n",
        "    print(\"Reject the null hypothesis: There is a significant difference in gender gap between high and low GDP countries.\")\n",
        "else:\n",
        "    print(\"Fail to reject the null hypothesis: There is no significant difference in gender gap between high and low GDP countries.\")\n",
        "\n",
        "\n",
        "\n",
        "\"\"\"\n",
        "Output:\n",
        "Gender Gap t-statistic: -0.7624633757860872\n",
        "Two-tailed p-value from t-test: 0.4464296422109275\n",
        "Degrees of Freedom: 278.1246710650789\n",
        "Critical t-values at alpha = 0.05: -1.9685301166200546 1.9685301166200542\n",
        "Two-tailed p-value: 0.4464296422109275\n",
        "Fail to reject the null hypothesis: There is no significant difference in gender gap between high and low GDP countries.\n",
        "\"\"\"\n",
        "\n"
      ]
    }
  ]
}