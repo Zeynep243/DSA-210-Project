{
  "nbformat": 4,
  "nbformat_minor": 0,
  "metadata": {
    "colab": {
      "provenance": []
    },
    "kernelspec": {
      "name": "python3",
      "display_name": "Python 3"
    },
    "language_info": {
      "name": "python"
    }
  },
  "cells": [
    {
      "cell_type": "code",
      "source": [
        "import requests\n",
        "\n",
        "# Dictionary of CSV URLs and the filenames to save them as\n",
        "csv_links = {\n",
        "    \"world-bank-income-groups.csv\":\"https://ourworldindata.org/grapher/world-bank-income-groups.csv?v=1&csvType=full&useColumnShortNames=true\",\n",
        "    \"world-regions-according-to-the-world-bank.csv\":\"https://ourworldindata.org/grapher/world-regions-according-to-the-world-bank.csv?v=1&csvType=full&useColumnShortNames=false\",\n",
        "\n",
        "    \"pisa-mean-performance-on-the-mathematics-scale-by-sex.csv\": \"https://ourworldindata.org/grapher/pisa-mean-performance-on-the-mathematics-scale-by-sex.csv?v=1&csvType=full&useColumnShortNames=false\",\n",
        "    \"pisa-mean-performance-on-the-reading-scale-by-sex.csv\": \"https://ourworldindata.org/grapher/pisa-mean-performance-on-the-reading-scale-by-sex.csv?v=1&csvType=full&useColumnShortNames=false\",\n",
        "    \"average-performance-of-15-year-old-girls-and-boys-on-the-science-scale.csv\": \"https://ourworldindata.org/grapher/average-performance-of-15-year-old-girls-and-boys-on-the-science-scale.csv?v=1&csvType=full&useColumnShortNames=false\",\n",
        "    \"pisa-test-score-mean-performance-on-the-mathematics-scale.csv\": \"https://ourworldindata.org/grapher/pisa-test-score-mean-performance-on-the-mathematics-scale.csv?v=1&csvType=full&useColumnShortNames=false\",\n",
        "    \"pisa-test-score-mean-performance-on-the-reading-scale.csv\": \"https://ourworldindata.org/grapher/pisa-test-score-mean-performance-on-the-reading-scale.csv?v=1&csvType=full&useColumnShortNames=false\",\n",
        "    \"average-performance-of-15-year-olds-on-the-science-scale.csv\": \"https://ourworldindata.org/grapher/average-performance-of-15-year-olds-on-the-science-scale.csv?v=1&csvType=full&useColumnShortNames=false\",\n",
        "    \"total-government-expenditure-on-education-gdp.csv\": \"https://ourworldindata.org/grapher/total-government-expenditure-on-education-gdp.csv?v=1&csvType=full&useColumnShortNames=false\",\n",
        "    \"gdp-per-capita-worldbank.csv\": \"https://ourworldindata.org/grapher/gdp-per-capita-worldbank.csv?v=1&csvType=full&useColumnShortNames=false\",\n",
        "    \"economic-inequality-gini-index.csv\": \"https://ourworldindata.org/grapher/economic-inequality-gini-index.csv?v=1&csvType=full&useColumnShortNames=false\",\n",
        "    \"gini-coefficient-world-bank-marimekko.csv\": \"https://ourworldindata.org/grapher/gini-coefficient-world-bank-marimekko.csv?v=1&csvType=full&useColumnShortNames=false\",\n",
        "    \"share-of-population-in-extreme-poverty.csv\": \"https://ourworldindata.org/grapher/share-of-population-in-extreme-poverty.csv?v=1&csvType=full&useColumnShortNames=false\",\n",
        "    \"distribution-of-population-between-different-poverty-thresholds-up-to-30-dollars.csv\": \"https://ourworldindata.org/grapher/distribution-of-population-between-different-poverty-thresholds-up-to-30-dollars.csv?v=1&csvType=full&useColumnShortNames=false\",\n",
        "    \"share-multi-poverty.csv\": \"https://ourworldindata.org/grapher/share-multi-poverty.csv?v=1&csvType=full&useColumnShortNames=false\",\n",
        "    \"gender-inequality-index-from-the-human-development-report.csv\": \"https://ourworldindata.org/grapher/gender-inequality-index-from-the-human-development-report.csv?v=1&csvType=full&useColumnShortNames=false\",\n",
        "    \"share-of-education-in-government-expenditure.csv\": \"https://ourworldindata.org/grapher/share-of-education-in-government-expenditure.csv?v=1&csvType=full&useColumnShortNames=false\",\n",
        "    \"average-years-of-schooling.csv\": \"https://ourworldindata.org/grapher/average-years-of-schooling.csv?v=1&csvType=full&useColumnShortNames=false\",\n",
        "    \"mean-years-of-schooling-male.csv\": \"https://ourworldindata.org/grapher/mean-years-of-schooling-male.csv?v=1&csvType=full&useColumnShortNames=false\",\n",
        "    \"mean-years-of-schooling-female.csv\": \"https://ourworldindata.org/grapher/mean-years-of-schooling-female.csv?v=1&csvType=full&useColumnShortNames=false\",\n",
        "\n",
        "    \"expected-years-of-schooling.csv\": \"https://ourworldindata.org/grapher/expected-years-of-schooling.csv?v=1&csvType=full&useColumnShortNames=false\",\n",
        "    \"human-development-index.csv\": \"https://ourworldindata.org/grapher/human-development-index.csv?v=1&csvType=full&useColumnShortNames=false\",\n",
        "    \"political-corruption-index.csv\": \"https://ourworldindata.org/grapher/political-corruption-index.csv?v=1&csvType=full&useColumnShortNames=false\"\n",
        "}\n",
        "\n",
        "# Download files\n",
        "for filename, url in csv_links.items():\n",
        "    #print(f\"Downloading {filename}...\")\n",
        "    response = requests.get(url)\n",
        "    with open(filename, 'wb') as f:\n",
        "        f.write(response.content)\n",
        "\n",
        "print(\"✅ All files downloaded successfully in Google Colab environment.\")\n"
      ],
      "metadata": {
        "colab": {
          "base_uri": "https://localhost:8080/"
        },
        "id": "wnvFtklPSjFQ",
        "outputId": "fcdabd29-5288-4958-d52e-70e62a50d29d"
      },
      "execution_count": 2,
      "outputs": [
        {
          "output_type": "stream",
          "name": "stdout",
          "text": [
            "✅ All files downloaded successfully in Google Colab environment.\n"
          ]
        }
      ]
    },
    {
      "cell_type": "markdown",
      "source": [
        "##Data Collection and Processing\n",
        "* I collected all of my datasets from World Bank, in this file those datasets will be merged, cleaned and imputed to prepare for data analysis."
      ],
      "metadata": {
        "id": "BGRNv0hGGrIR"
      }
    },
    {
      "cell_type": "code",
      "source": [
        "import pandas as pd\n",
        "import numpy as np\n",
        "import matplotlib.pyplot as plt\n",
        "import seaborn as sns\n",
        "import os\n",
        "\n",
        "\"\"\"\n",
        "files are merged into a single data frame, only years from 1990 to 2023 are kept to do interpolation,\n",
        "countries that have less than 10 appearence for those years are dropped to eliminate places where there is not much data\n",
        "\"\"\"\n",
        "\n",
        "# names of all files that will be used, I directly uploaded the files to runtime that is why there is no path for google drive\n",
        "file_names = [\n",
        "    \"world-bank-income-groups.csv\",\n",
        "    'pisa-mean-performance-on-the-mathematics-scale-by-sex.csv',\n",
        "    'pisa-mean-performance-on-the-reading-scale-by-sex.csv',\n",
        "    'average-performance-of-15-year-old-girls-and-boys-on-the-science-scale.csv',\n",
        "    'pisa-test-score-mean-performance-on-the-mathematics-scale.csv',\n",
        "    'pisa-test-score-mean-performance-on-the-reading-scale.csv',\n",
        "    'average-performance-of-15-year-olds-on-the-science-scale.csv',\n",
        "    'total-government-expenditure-on-education-gdp.csv',\n",
        "    'gdp-per-capita-worldbank.csv',\n",
        "    'economic-inequality-gini-index.csv',\n",
        "    'gender-inequality-index-from-the-human-development-report.csv',\n",
        "    'share-of-education-in-government-expenditure.csv',\n",
        "    'average-years-of-schooling.csv',\n",
        "    'mean-years-of-schooling-male.csv',\n",
        "    'mean-years-of-schooling-female.csv',\n",
        "    'expected-years-of-schooling.csv',\n",
        "    'human-development-index.csv',\n",
        "    'political-corruption-index.csv'\n",
        "]\n",
        "\n",
        "# first file is read others will be merged to this one\n",
        "merged_df = pd.read_csv(file_names[0])\n",
        "merged_df = merged_df.drop(columns='Code', errors='ignore')\n",
        "\n",
        "# rest is merged with the loop\n",
        "for file in file_names[1:]:\n",
        "    df = pd.read_csv(file)\n",
        "    df = df.drop(columns='Code', errors='ignore')\n",
        "\n",
        "    # drop overlapping columns except 'Entity' and 'Year'\n",
        "    overlapping_cols = []\n",
        "    for col in df.columns:\n",
        "        if col in merged_df.columns and col not in ['Entity', 'Year']:\n",
        "            overlapping_cols.append(col)\n",
        "\n",
        "    df = df.drop(columns=overlapping_cols, errors='ignore')\n",
        "\n",
        "    # merge on 'Entity' and 'Year'\n",
        "    merged_df = pd.merge(merged_df, df, on=['Entity', 'Year'], how='outer')\n",
        "\n",
        "# for now only years between 1990-2023 kept, after imputation 1990-99 and 2023 will be dropped because they do not have many PISA scores\n",
        "df_filtered = merged_df.loc[(merged_df[\"Year\"] >= 1990) & (merged_df[\"Year\"] <= 2023)]\n",
        "\n",
        "# keep only countries that appear more than 10 times\n",
        "entity_counts = df_filtered[\"Entity\"].value_counts()\n",
        "valid_entities = entity_counts[entity_counts >= 10].index\n",
        "df_filtered = df_filtered.loc[df_filtered[\"Entity\"].isin(valid_entities)]\n",
        "\n",
        "entity_counts = df_filtered[\"Entity\"].value_counts()\n",
        "#print(entity_counts)\n",
        "\n",
        "#drop duplicate or unnecessary columns\n",
        "df_filtered = df_filtered.drop(columns=['Population (historical)', '990179-annotations',\n",
        "                                        'Upper bound of performance of 15-year-old  on the mathematics scale',\n",
        "                                        'Lower bound of performance of 15-year-old  on the mathematics scale',\n",
        "                                        'Upper bound of performance of 15-year-old  on the reading scale',\n",
        "                                        'Lower bound of performance of 15-year-old  on the reading scale',\n",
        "                                        'Upper bound of performance of 15-year-old  on the science scale',\n",
        "                                        'Lower bound of performance of 15-year-old  on the science scale',\n",
        "                                       ])\n",
        "\n",
        "df = df_filtered # to use a simpler name\n"
      ],
      "metadata": {
        "id": "wVRQa2B3NvWH"
      },
      "execution_count": 3,
      "outputs": []
    },
    {
      "cell_type": "markdown",
      "source": [
        "* Dataset files are opened and merge together, some unnecessary columns and rows are dropped."
      ],
      "metadata": {
        "id": "4OV0cXXzGYZO"
      }
    },
    {
      "cell_type": "code",
      "source": [
        "df.dtypes"
      ],
      "metadata": {
        "colab": {
          "base_uri": "https://localhost:8080/",
          "height": 1000
        },
        "id": "pWH9mqFe_dOJ",
        "outputId": "eae2df27-81a1-4b52-d583-98a43352a9fd"
      },
      "execution_count": 4,
      "outputs": [
        {
          "output_type": "execute_result",
          "data": {
            "text/plain": [
              "Entity                                                                          object\n",
              "Year                                                                             int64\n",
              "classification                                                                  object\n",
              "Average performance of 15-year-old female students on the mathematics scale    float64\n",
              "Average performance of 15-year-old male students on the mathematics scale      float64\n",
              "World regions according to OWID                                                 object\n",
              "Average performance of 15-year-old female students on the reading scale        float64\n",
              "Average performance of 15-year-old male students on the reading scale          float64\n",
              "Average performance of 15-year-old female students on the science scale        float64\n",
              "Average performance of 15-year-old male students on the science scale          float64\n",
              "Population                                                                     float64\n",
              "Average performance of 15-year-old students on the mathematics scale           float64\n",
              "Average performance of 15-year-old students on the reading scale               float64\n",
              "Average performance of 15-year-old students on the science scale               float64\n",
              "Public spending on education as a share of GDP                                 float64\n",
              "GDP per capita, PPP (constant 2021 international $)                            float64\n",
              "Gini coefficient                                                               float64\n",
              "Gender Inequality Index                                                        float64\n",
              "Government expenditure on education, total (% of government expenditure)       float64\n",
              "Average years of schooling                                                     float64\n",
              "Mean years of schooling (ISCED 1 or higher), population 25+ years, male        float64\n",
              "Mean years of schooling (ISCED 1 or higher), population 25+ years, female      float64\n",
              "Expected years of schooling                                                    float64\n",
              "Human Development Index                                                        float64\n",
              "Political corruption index (central estimate, aggregate: average)              float64\n",
              "dtype: object"
            ],
            "text/html": [
              "<div>\n",
              "<style scoped>\n",
              "    .dataframe tbody tr th:only-of-type {\n",
              "        vertical-align: middle;\n",
              "    }\n",
              "\n",
              "    .dataframe tbody tr th {\n",
              "        vertical-align: top;\n",
              "    }\n",
              "\n",
              "    .dataframe thead th {\n",
              "        text-align: right;\n",
              "    }\n",
              "</style>\n",
              "<table border=\"1\" class=\"dataframe\">\n",
              "  <thead>\n",
              "    <tr style=\"text-align: right;\">\n",
              "      <th></th>\n",
              "      <th>0</th>\n",
              "    </tr>\n",
              "  </thead>\n",
              "  <tbody>\n",
              "    <tr>\n",
              "      <th>Entity</th>\n",
              "      <td>object</td>\n",
              "    </tr>\n",
              "    <tr>\n",
              "      <th>Year</th>\n",
              "      <td>int64</td>\n",
              "    </tr>\n",
              "    <tr>\n",
              "      <th>classification</th>\n",
              "      <td>object</td>\n",
              "    </tr>\n",
              "    <tr>\n",
              "      <th>Average performance of 15-year-old female students on the mathematics scale</th>\n",
              "      <td>float64</td>\n",
              "    </tr>\n",
              "    <tr>\n",
              "      <th>Average performance of 15-year-old male students on the mathematics scale</th>\n",
              "      <td>float64</td>\n",
              "    </tr>\n",
              "    <tr>\n",
              "      <th>World regions according to OWID</th>\n",
              "      <td>object</td>\n",
              "    </tr>\n",
              "    <tr>\n",
              "      <th>Average performance of 15-year-old female students on the reading scale</th>\n",
              "      <td>float64</td>\n",
              "    </tr>\n",
              "    <tr>\n",
              "      <th>Average performance of 15-year-old male students on the reading scale</th>\n",
              "      <td>float64</td>\n",
              "    </tr>\n",
              "    <tr>\n",
              "      <th>Average performance of 15-year-old female students on the science scale</th>\n",
              "      <td>float64</td>\n",
              "    </tr>\n",
              "    <tr>\n",
              "      <th>Average performance of 15-year-old male students on the science scale</th>\n",
              "      <td>float64</td>\n",
              "    </tr>\n",
              "    <tr>\n",
              "      <th>Population</th>\n",
              "      <td>float64</td>\n",
              "    </tr>\n",
              "    <tr>\n",
              "      <th>Average performance of 15-year-old students on the mathematics scale</th>\n",
              "      <td>float64</td>\n",
              "    </tr>\n",
              "    <tr>\n",
              "      <th>Average performance of 15-year-old students on the reading scale</th>\n",
              "      <td>float64</td>\n",
              "    </tr>\n",
              "    <tr>\n",
              "      <th>Average performance of 15-year-old students on the science scale</th>\n",
              "      <td>float64</td>\n",
              "    </tr>\n",
              "    <tr>\n",
              "      <th>Public spending on education as a share of GDP</th>\n",
              "      <td>float64</td>\n",
              "    </tr>\n",
              "    <tr>\n",
              "      <th>GDP per capita, PPP (constant 2021 international $)</th>\n",
              "      <td>float64</td>\n",
              "    </tr>\n",
              "    <tr>\n",
              "      <th>Gini coefficient</th>\n",
              "      <td>float64</td>\n",
              "    </tr>\n",
              "    <tr>\n",
              "      <th>Gender Inequality Index</th>\n",
              "      <td>float64</td>\n",
              "    </tr>\n",
              "    <tr>\n",
              "      <th>Government expenditure on education, total (% of government expenditure)</th>\n",
              "      <td>float64</td>\n",
              "    </tr>\n",
              "    <tr>\n",
              "      <th>Average years of schooling</th>\n",
              "      <td>float64</td>\n",
              "    </tr>\n",
              "    <tr>\n",
              "      <th>Mean years of schooling (ISCED 1 or higher), population 25+ years, male</th>\n",
              "      <td>float64</td>\n",
              "    </tr>\n",
              "    <tr>\n",
              "      <th>Mean years of schooling (ISCED 1 or higher), population 25+ years, female</th>\n",
              "      <td>float64</td>\n",
              "    </tr>\n",
              "    <tr>\n",
              "      <th>Expected years of schooling</th>\n",
              "      <td>float64</td>\n",
              "    </tr>\n",
              "    <tr>\n",
              "      <th>Human Development Index</th>\n",
              "      <td>float64</td>\n",
              "    </tr>\n",
              "    <tr>\n",
              "      <th>Political corruption index (central estimate, aggregate: average)</th>\n",
              "      <td>float64</td>\n",
              "    </tr>\n",
              "  </tbody>\n",
              "</table>\n",
              "</div><br><label><b>dtype:</b> object</label>"
            ]
          },
          "metadata": {},
          "execution_count": 4
        }
      ]
    },
    {
      "cell_type": "code",
      "source": [
        "# columns are renamed for clarity\n",
        "shortened_columns = [\n",
        "\n",
        "    \"Entity\",\n",
        "    \"Year\",\n",
        "    \"classification\",\n",
        "    \"Math_PISA_Female\",\n",
        "    \"Math_PISA_Male\",\n",
        "    \"World_Region\",\n",
        "    \"Read_PISA_Female\",\n",
        "    \"Read_PISA_Male\",\n",
        "    \"Sci_PISA_Female\",\n",
        "    \"Sci_PISA_Male\",\n",
        "    \"Population\",\n",
        "    \"Math_PISA_Total\",\n",
        "    \"Read_PISA_Total\",\n",
        "    \"Sci_PISA_Total\",\n",
        "    \"EduSpend_GDP\",\n",
        "    \"GDP_PPP_perCapita\",\n",
        "    \"Gini_Coefficient\",\n",
        "    \"Gender_Inequality\",\n",
        "    \"GovEduSpend_Pct\",\n",
        "    \"Avg_School_Years\",\n",
        "    \"Mean_School_Years_M\",\n",
        "    \"Mean_School_Years_F\",\n",
        "    \"Expected_School_Years\",\n",
        "    \"HDI\",\n",
        "    \"Corruption_Index\"\n",
        "]\n",
        "\n",
        "df.columns = shortened_columns\n",
        "\n",
        "\n",
        "\n",
        "\n",
        "# columns that will be interpolated\n",
        "to_impute = [\n",
        "\n",
        "    \"Math_PISA_Female\",\n",
        "    \"Math_PISA_Male\",\n",
        "    \"Read_PISA_Female\",\n",
        "    \"Read_PISA_Male\",\n",
        "    \"Sci_PISA_Female\",\n",
        "    \"Sci_PISA_Male\",\n",
        "    \"Population\",\n",
        "    \"Math_PISA_Total\",\n",
        "    \"Read_PISA_Total\",\n",
        "    \"Sci_PISA_Total\",\n",
        "    \"EduSpend_GDP\",\n",
        "    \"GDP_PPP_perCapita\",\n",
        "    \"Gini_Coefficient\",\n",
        "    \"Gender_Inequality\",\n",
        "    \"GovEduSpend_Pct\",\n",
        "    \"Avg_School_Years\",\n",
        "    \"Mean_School_Years_M\",\n",
        "    \"Mean_School_Years_F\",\n",
        "    \"Expected_School_Years\",\n",
        "    \"HDI\",\n",
        "    \"Corruption_Index\"\n",
        "]\n",
        "\n",
        "for score in to_impute:\n",
        "\n",
        "  # loop over each country and interpolate all values for that country name\n",
        "  for country in df['Entity'].unique():\n",
        "      select_country = df['Entity'] == country # select all the rows that has given country\n",
        "      country_scores = df.loc[select_country, score] # of the country select the column\n",
        "\n",
        "      # interpolate for all missing values in the given country\n",
        "      country_filled = country_scores.interpolate(method='linear', limit_direction='both').bfill().ffill() #bfill/ffill to impute values to end/begining\n",
        "\n",
        "      df.loc[select_country, score] = country_filled # values are replaced with filled values\n"
      ],
      "metadata": {
        "id": "xZGdUyOYPW9Z"
      },
      "execution_count": 5,
      "outputs": []
    },
    {
      "cell_type": "markdown",
      "source": [
        "* Instead of imputing mean or median, linear interpolation is used (idea taken from model the imputation in the lecture slides)\n",
        "* A feature's value may increase or decrease within the years, I thought linear interpolation would reflect that better than imputing the mean\n"
      ],
      "metadata": {
        "id": "ZwU8EqO4HI15"
      }
    },
    {
      "cell_type": "code",
      "source": [
        "# how many countries miss GDP and PISA, average reading values are taken as they were more then the other scores\n",
        "missing_pisa_countries = df.loc[df['Read_PISA_Female'].isna(), 'Entity'].unique().tolist()\n",
        "missing_gdp_countries = df.loc[df['GDP_PPP_perCapita'].isna(), 'Entity'].unique().tolist()\n",
        "counter1 = 0\n",
        "counter2 = 0\n",
        "for ctr in missing_gdp_countries:\n",
        "  if ctr not in missing_pisa_countries:\n",
        "    counter1 += 1\n",
        "    print('Country that is missing GDP but not PISA:', ctr)\n",
        "\n",
        "for ctr in missing_gdp_countries:\n",
        "  if ctr in missing_pisa_countries:\n",
        "    counter2 += 1\n",
        "    #print(ctr)\n",
        "\n",
        "print('Countries missing GDP:                   ', len(missing_gdp_countries), '\\n' 'Countries missing both GDP and PISA:     ', counter2)\n",
        "\n",
        "# output is 84 and 83 so only Taiwan has PISA scores but missing GDP, Taiwan will be impputed others will be dropped\n"
      ],
      "metadata": {
        "colab": {
          "base_uri": "https://localhost:8080/"
        },
        "id": "TIukdIS-MFJS",
        "outputId": "09af7e8b-13b7-4dc0-ea92-b73b442e657f"
      },
      "execution_count": 6,
      "outputs": [
        {
          "output_type": "stream",
          "name": "stdout",
          "text": [
            "Country that is missing GDP but not PISA: Taiwan\n",
            "Countries missing GDP:                    84 \n",
            "Countries missing both GDP and PISA:      83\n"
          ]
        }
      ]
    },
    {
      "cell_type": "markdown",
      "source": [
        "* Here I check how many countries have missing GDP, I will then use GDP to impute missing income classifications. Then calculate each 4 of the income classifications means for all columns and impute in places where a country has no value for that column in any years."
      ],
      "metadata": {
        "id": "45vOvr3GHhHN"
      }
    },
    {
      "cell_type": "code",
      "source": [
        "\n",
        "gdp_col = \"GDP_PPP_perCapita\"\n",
        "read_f = \"Read_PISA_Female\"\n",
        "read_m = \"Read_PISA_Male\"\n",
        "\n",
        "# compute the mean GDP for each non-missing 'classification'\n",
        "group_means = df.groupby('classification')[gdp_col].mean()\n",
        "\n",
        "missing = df['classification'].isna() & df[gdp_col].notna() # find rows where classification is missing but GDP is present\n",
        "\n",
        "# loop over each of those rows and pick the class whose mean is closest\n",
        "for ind in df[missing].index:\n",
        "    this_gdp = df.at[ind, gdp_col]\n",
        "    difference = (group_means - this_gdp).abs() #distance to each classifications mean\n",
        "    df.at[ind, 'classification'] = difference.idxmin() # closest classifications mean will be picked\n",
        "\n",
        "# check how many are still missing\n",
        "print(\"Still missing:\", df['classification'].isna().sum())"
      ],
      "metadata": {
        "colab": {
          "base_uri": "https://localhost:8080/"
        },
        "id": "2dv7XGJWUIlm",
        "outputId": "c8472345-7b3e-4653-847e-51e423750207"
      },
      "execution_count": 7,
      "outputs": [
        {
          "output_type": "stream",
          "name": "stdout",
          "text": [
            "Still missing: 2017\n"
          ]
        }
      ]
    },
    {
      "cell_type": "code",
      "source": [
        "# list of income classification\n",
        "classific = ['Low-income countries', 'Lower-middle-income countries', 'Upper-middle-income countries', 'High-income countries']\n",
        "\n",
        "# fill missing values per category, I hope to get better estimation for missing values this way, intead of plugging in overall mean for all countries\n",
        "for c in classific:\n",
        "    c_classif = df['classification'] == c # to select only c classification in each loop, boolean series\n",
        "    for column in to_impute:\n",
        "        mean_value = df.loc[c_classif, column].mean() # compute mean for each column for classification c\n",
        "        df.loc[c_classif & df[column].isna(), column] = mean_value # find rows where classification is c and columns values is missing, fill it with its mean\n",
        "\n",
        "print(df[to_impute].isna().sum())  # all zeros if everything filled"
      ],
      "metadata": {
        "colab": {
          "base_uri": "https://localhost:8080/"
        },
        "id": "W0Nis1rVUit9",
        "outputId": "545a53ed-6798-4430-eefb-8e477e929f86"
      },
      "execution_count": 8,
      "outputs": [
        {
          "output_type": "stream",
          "name": "stdout",
          "text": [
            "Math_PISA_Female         2017\n",
            "Math_PISA_Male           2017\n",
            "Read_PISA_Female         2017\n",
            "Read_PISA_Male           2017\n",
            "Sci_PISA_Female          2017\n",
            "Sci_PISA_Male            2017\n",
            "Population                673\n",
            "Math_PISA_Total          2017\n",
            "Read_PISA_Total          2017\n",
            "Sci_PISA_Total           2017\n",
            "EduSpend_GDP             1834\n",
            "GDP_PPP_perCapita        2017\n",
            "Gini_Coefficient         1890\n",
            "Gender_Inequality        1547\n",
            "GovEduSpend_Pct          1942\n",
            "Avg_School_Years         1452\n",
            "Mean_School_Years_M      1895\n",
            "Mean_School_Years_F      1895\n",
            "Expected_School_Years    1448\n",
            "HDI                      1452\n",
            "Corruption_Index         1668\n",
            "dtype: int64\n"
          ]
        }
      ]
    },
    {
      "cell_type": "code",
      "source": [
        "#df.loc[df['Entity'] == 'Taiwan',gdp_col] # Taiwan problem is fixed, now it has mean GDP for its income classification"
      ],
      "metadata": {
        "id": "vFwKDQRsasVf"
      },
      "execution_count": 9,
      "outputs": []
    },
    {
      "cell_type": "code",
      "source": [
        "#countries that do not have GDP and PISA scores are dropped\n",
        "for country in missing_pisa_countries:\n",
        "    df = df[df['Entity'] != country]\n",
        "\n",
        "print(df['classification'].isna().sum())  # all zeros if everything filled"
      ],
      "metadata": {
        "colab": {
          "base_uri": "https://localhost:8080/"
        },
        "id": "RVhCBOYUbBdA",
        "outputId": "8bdc9e7c-3692-4aea-e1bd-788cc9b891e2"
      },
      "execution_count": 10,
      "outputs": [
        {
          "output_type": "stream",
          "name": "stdout",
          "text": [
            "0\n"
          ]
        }
      ]
    },
    {
      "cell_type": "markdown",
      "source": [
        "* Countries missing PISA scores are dropped."
      ],
      "metadata": {
        "id": "B5lVKieXR-4f"
      }
    },
    {
      "cell_type": "code",
      "source": [
        "gdp_col = 'GDP_PPP_perCapita'\n",
        "means_by_class = df.groupby('classification')[gdp_col].mean() # mean GDP for each classification\n",
        "\n",
        "class_names = list(means_by_class.index)\n",
        "class_means = list(means_by_class.values)\n",
        "\n",
        "select_missing_class = df['classification'].isna() & df[gdp_col].notna() # rows where classification is missing but there is GDP\n",
        "rows_to_fill = df[select_missing_class].index.tolist()\n",
        "\n",
        "for i in rows_to_fill:  # or each such row, find the class whose mean is closest to that row’s GDP\n",
        "    gdp_value = df.loc[i, gdp_col]\n",
        "    least_diff_class = []\n",
        "    least_diff  = []\n",
        "\n",
        "    for j in range(len(class_names)):\n",
        "        name     = class_names[j]\n",
        "        mean_value = class_means[j]\n",
        "        diff     = abs(mean_value - gdp_value)\n",
        "\n",
        "        if least_diff==[] or diff < least_diff:\n",
        "            least_diff  = diff\n",
        "            least_diff_class = name\n",
        "\n",
        "    df.loc[i, 'classification'] = least_diff_class #impute classification with least difference\n",
        "\n",
        "print(df['classification'].describe())"
      ],
      "metadata": {
        "colab": {
          "base_uri": "https://localhost:8080/"
        },
        "id": "UWvSXioZcOBY",
        "outputId": "22c2d0f8-0a96-4967-aa94-fe4dfd10754e"
      },
      "execution_count": 11,
      "outputs": [
        {
          "output_type": "stream",
          "name": "stdout",
          "text": [
            "count                      2992\n",
            "unique                        4\n",
            "top       High-income countries\n",
            "freq                       1353\n",
            "Name: classification, dtype: object\n"
          ]
        }
      ]
    },
    {
      "cell_type": "markdown",
      "source": [
        "* Countries with missing classification values are imputed with the closest difference in GDP for classification."
      ],
      "metadata": {
        "id": "1X-h602iSHnE"
      }
    },
    {
      "cell_type": "code",
      "source": [
        "# find all Entities that do have at least one value\n",
        "valid_entities = df.loc[ df[read_f].notna(), 'Entity'].unique()\n",
        "\n",
        "# filter DataFrame to only those Entities\n",
        "df = df[df['Entity'].isin(valid_entities)]\n",
        "df['classification'].describe()"
      ],
      "metadata": {
        "colab": {
          "base_uri": "https://localhost:8080/",
          "height": 242
        },
        "id": "Sflt-uMWii3-",
        "outputId": "cb14c090-dcac-403f-f33a-72f9ed77e88b"
      },
      "execution_count": 12,
      "outputs": [
        {
          "output_type": "execute_result",
          "data": {
            "text/plain": [
              "count                      2992\n",
              "unique                        4\n",
              "top       High-income countries\n",
              "freq                       1353\n",
              "Name: classification, dtype: object"
            ],
            "text/html": [
              "<div>\n",
              "<style scoped>\n",
              "    .dataframe tbody tr th:only-of-type {\n",
              "        vertical-align: middle;\n",
              "    }\n",
              "\n",
              "    .dataframe tbody tr th {\n",
              "        vertical-align: top;\n",
              "    }\n",
              "\n",
              "    .dataframe thead th {\n",
              "        text-align: right;\n",
              "    }\n",
              "</style>\n",
              "<table border=\"1\" class=\"dataframe\">\n",
              "  <thead>\n",
              "    <tr style=\"text-align: right;\">\n",
              "      <th></th>\n",
              "      <th>classification</th>\n",
              "    </tr>\n",
              "  </thead>\n",
              "  <tbody>\n",
              "    <tr>\n",
              "      <th>count</th>\n",
              "      <td>2992</td>\n",
              "    </tr>\n",
              "    <tr>\n",
              "      <th>unique</th>\n",
              "      <td>4</td>\n",
              "    </tr>\n",
              "    <tr>\n",
              "      <th>top</th>\n",
              "      <td>High-income countries</td>\n",
              "    </tr>\n",
              "    <tr>\n",
              "      <th>freq</th>\n",
              "      <td>1353</td>\n",
              "    </tr>\n",
              "  </tbody>\n",
              "</table>\n",
              "</div><br><label><b>dtype:</b> object</label>"
            ]
          },
          "metadata": {},
          "execution_count": 12
        }
      ]
    },
    {
      "cell_type": "code",
      "source": [
        "entities = df['Entity'].unique()\n",
        "\n",
        "for entity in entities:\n",
        "\n",
        "    region_value = df.loc[ (df['Entity'] == entity) & (df['Year'] == 2023), 'World_Region' ] # get the value for the entity at year 2023\n",
        "\n",
        "    if not region_value.empty:  # if the region value for 2023 exists\n",
        "        region_value = region_value.iloc[0]\n",
        "\n",
        "        df.loc[df['Entity'] == entity, 'World_Region'] = region_value # assign 2023's value to all (since continent information does not change it was only present for one year)\n",
        "\n",
        "print(df.head())\n",
        "\n",
        "\n",
        "# 1990 to 1999 were kept to do imputation now they are dropped\n",
        "df = df.loc[(df[\"Year\"] >= 2000) & (df[\"Year\"] < 2023)]"
      ],
      "metadata": {
        "colab": {
          "base_uri": "https://localhost:8080/"
        },
        "id": "CcBp3YZ93204",
        "outputId": "4a55c613-f7e0-42f7-a95c-b93b637cace8"
      },
      "execution_count": 13,
      "outputs": [
        {
          "output_type": "stream",
          "name": "stdout",
          "text": [
            "       Entity  Year                 classification  Math_PISA_Female  \\\n",
            "1082  Albania  1990  Lower-middle-income countries         382.90045   \n",
            "1083  Albania  1991  Lower-middle-income countries         382.90045   \n",
            "1084  Albania  1992  Lower-middle-income countries         382.90045   \n",
            "1085  Albania  1993           Low-income countries         382.90045   \n",
            "1086  Albania  1994           Low-income countries         382.90045   \n",
            "\n",
            "      Math_PISA_Male World_Region  Read_PISA_Female  Read_PISA_Male  \\\n",
            "1082       372.29266       Europe         377.55408        319.0706   \n",
            "1083       372.29266       Europe         377.55408        319.0706   \n",
            "1084       372.29266       Europe         377.55408        319.0706   \n",
            "1085       372.29266       Europe         377.55408        319.0706   \n",
            "1086       372.29266       Europe         377.55408        319.0706   \n",
            "\n",
            "      Sci_PISA_Female  Sci_PISA_Male  ...  GDP_PPP_perCapita  \\\n",
            "1082         405.6126      376.52213  ...          5407.3247   \n",
            "1083         405.6126      376.52213  ...          3916.6973   \n",
            "1084         405.6126      376.52213  ...          3657.3120   \n",
            "1085         405.6126      376.52213  ...          4031.4531   \n",
            "1086         405.6126      376.52213  ...          4393.0650   \n",
            "\n",
            "      Gini_Coefficient  Gender_Inequality  GovEduSpend_Pct  Avg_School_Years  \\\n",
            "1082          0.270103              0.307        11.371651          7.354632   \n",
            "1083          0.270103              0.307        11.371651          7.352754   \n",
            "1084          0.270103              0.307        11.371651          7.350875   \n",
            "1085          0.270103              0.307        11.371651          7.348996   \n",
            "1086          0.270103              0.307        11.371651          7.347118   \n",
            "\n",
            "      Mean_School_Years_M  Mean_School_Years_F  Expected_School_Years    HDI  \\\n",
            "1082              9.42406              8.23519               11.57934  0.649   \n",
            "1083              9.42406              8.23519               11.78130  0.632   \n",
            "1084              9.42406              8.23519               10.65801  0.616   \n",
            "1085              9.42406              8.23519               10.07354  0.618   \n",
            "1086              9.42406              8.23519                9.99266  0.623   \n",
            "\n",
            "      Corruption_Index  \n",
            "1082             0.130  \n",
            "1083             0.507  \n",
            "1084             0.683  \n",
            "1085             0.591  \n",
            "1086             0.683  \n",
            "\n",
            "[5 rows x 25 columns]\n"
          ]
        }
      ]
    },
    {
      "cell_type": "code",
      "source": [
        "print(df[df['classification'].isna()], 'Entity')  # all zeros if everything filled"
      ],
      "metadata": {
        "colab": {
          "base_uri": "https://localhost:8080/"
        },
        "id": "vcFMOshxRW-f",
        "outputId": "dab01340-f3d7-44f4-bee8-8d7f635ec926"
      },
      "execution_count": 14,
      "outputs": [
        {
          "output_type": "stream",
          "name": "stdout",
          "text": [
            "Empty DataFrame\n",
            "Columns: [Entity, Year, classification, Math_PISA_Female, Math_PISA_Male, World_Region, Read_PISA_Female, Read_PISA_Male, Sci_PISA_Female, Sci_PISA_Male, Population, Math_PISA_Total, Read_PISA_Total, Sci_PISA_Total, EduSpend_GDP, GDP_PPP_perCapita, Gini_Coefficient, Gender_Inequality, GovEduSpend_Pct, Avg_School_Years, Mean_School_Years_M, Mean_School_Years_F, Expected_School_Years, HDI, Corruption_Index]\n",
            "Index: []\n",
            "\n",
            "[0 rows x 25 columns] Entity\n"
          ]
        }
      ]
    },
    {
      "cell_type": "code",
      "source": [
        "missing_pisa_countries = df.loc[df[read_f].isna(), 'Entity'].unique().tolist()\n",
        "\n",
        "# imputation repetated to fill in last missing values\n",
        "# list of categories\n",
        "classific = ['Low-income countries', 'Lower-middle-income countries', 'Upper-middle-income countries', 'High-income countries']\n",
        "\n",
        "# fill missing values per category, I hope to get better estimation for missing values this way, intead of plugging in overall mean for all countries\n",
        "for c in classific:\n",
        "    c_classif = df['classification'] == c # to select only c classification in each loop, boolean series\n",
        "    for column in to_impute:\n",
        "        mean_value = df.loc[c_classif, column].mean() # compute mean for each column for classification c\n",
        "        df.loc[c_classif & df[column].isna(), column] = mean_value # find rows where classification is c and columns values is missing, fill it with its mean\n",
        "\n",
        "\n",
        "print(df[shortened_columns].isna().sum())  # all zeros if everything filled\n",
        "\n",
        "\n",
        "rows_with_missing = df[df.isna().any(axis=1)]\n",
        "#print(rows_with_missing)\n",
        "\n",
        "#only keep the years that PISA scores originally exist\n",
        "pisa_years = [2000, 2003, 2006, 2009, 2012, 2015, 2018, 2022]\n",
        "df = df[df['Year'].isin(pisa_years)].copy()\n",
        "\n",
        "# PISA average scores calculated from read, math, science total scores average\n",
        "df['PISA_Total_Average'] = df[['Math_PISA_Total', 'Read_PISA_Total', 'Sci_PISA_Total']].mean(axis=1)\n",
        "\n",
        "df['PISA_Girls_Average'] = df[['Math_PISA_Female', 'Read_PISA_Female', 'Sci_PISA_Female']].mean(axis=1)\n",
        "\n",
        "df['PISA_Boys_Average'] = df[['Math_PISA_Male', 'Read_PISA_Male', 'Sci_PISA_Male']].mean(axis=1)\n",
        "\n",
        "\n",
        "df.to_excel(\"complete_data.xlsx\")\n",
        "df.to_csv(\"complete_data.csv\")\n"
      ],
      "metadata": {
        "colab": {
          "base_uri": "https://localhost:8080/"
        },
        "id": "aVgebDRcUUZL",
        "outputId": "beba1f7f-d9dc-49c2-fe1e-9a0093903fe1"
      },
      "execution_count": 15,
      "outputs": [
        {
          "output_type": "stream",
          "name": "stdout",
          "text": [
            "Entity                   0\n",
            "Year                     0\n",
            "classification           0\n",
            "Math_PISA_Female         0\n",
            "Math_PISA_Male           0\n",
            "World_Region             0\n",
            "Read_PISA_Female         0\n",
            "Read_PISA_Male           0\n",
            "Sci_PISA_Female          0\n",
            "Sci_PISA_Male            0\n",
            "Population               0\n",
            "Math_PISA_Total          0\n",
            "Read_PISA_Total          0\n",
            "Sci_PISA_Total           0\n",
            "EduSpend_GDP             0\n",
            "GDP_PPP_perCapita        0\n",
            "Gini_Coefficient         0\n",
            "Gender_Inequality        0\n",
            "GovEduSpend_Pct          0\n",
            "Avg_School_Years         0\n",
            "Mean_School_Years_M      0\n",
            "Mean_School_Years_F      0\n",
            "Expected_School_Years    0\n",
            "HDI                      0\n",
            "Corruption_Index         0\n",
            "dtype: int64\n"
          ]
        }
      ]
    }
  ]
}